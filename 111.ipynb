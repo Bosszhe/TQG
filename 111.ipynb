{
 "cells": [
  {
   "cell_type": "code",
   "execution_count": 1,
   "metadata": {},
   "outputs": [
    {
     "data": {
      "text/plain": [
       "<Figure size 2560x1920 with 0 Axes>"
      ]
     },
     "metadata": {},
     "output_type": "display_data"
    }
   ],
   "source": [
    "# from opencood.visualization.simple_vis import visualize\n",
    "from opencood.visualization.my_vis import visualize\n",
    "from opencood.utils.file_io import load_pkl\n",
    "\n",
    "infer_result = dict()\n",
    "a= load_pkl('my_dict.pkl')\n",
    "\n",
    "pred_box_tensor = a['pred_box_tensor']\n",
    "gt_box_tensor = a['gt_box_tensor']\n",
    "pcd = a['origin_lidar'][0]\n",
    "\n",
    "infer_result['pred_box_tensor'] = a['pred_box_tensor']\n",
    "infer_result['gt_box_tensor'] = a['gt_box_tensor']\n",
    "\n",
    "pc_range =  [-140.8, -40, -3, 140.8, 40, 1]\n",
    "save_path = 'sss.png'\n",
    "\n",
    "# visualize(infer_result, pcd, pc_range, save_path)\n",
    "visualize(pred_box_tensor, gt_box_tensor, pcd, save_path)"
   ]
  },
  {
   "cell_type": "code",
   "execution_count": null,
   "metadata": {},
   "outputs": [],
   "source": [
    "from opencood.visualization.simple_vis import visualize\n",
    "from opencood.utils.box_utils import boxes_to_corners_3d\n",
    "\n",
    "gt_bboxes = gt_bboxes_3d[0].tensor\n",
    "h = gt_bboxes[:,5]\n",
    "gt_bboxes[:,2] = gt_bboxes[:,2] + h/2\n",
    "ll = boxes_to_corners_3d(gt_bboxes, order='lwh')\n",
    "pcd = data_dict['origin_lidar'][0]\n",
    "\n",
    "infer_result = dict()\n",
    "infer_result['gt_box_tensor'] = ll\n",
    "pc_range =  [-140.8, -40, -3, 140.8, 40, 1]\n",
    "save_path = 'sss.png'\n",
    "visualize(infer_result, pcd, pc_range, save_path)\n",
    "\n"
   ]
  }
 ],
 "metadata": {
  "kernelspec": {
   "display_name": "Python 3",
   "language": "python",
   "name": "python3"
  },
  "language_info": {
   "codemirror_mode": {
    "name": "ipython",
    "version": 3
   },
   "file_extension": ".py",
   "mimetype": "text/x-python",
   "name": "python",
   "nbconvert_exporter": "python",
   "pygments_lexer": "ipython3",
   "version": "3.7.11"
  },
  "orig_nbformat": 4
 },
 "nbformat": 4,
 "nbformat_minor": 2
}
